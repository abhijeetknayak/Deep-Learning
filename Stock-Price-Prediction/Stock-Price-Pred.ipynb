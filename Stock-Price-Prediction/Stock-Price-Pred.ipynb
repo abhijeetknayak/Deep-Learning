{
 "cells": [
  {
   "cell_type": "code",
   "execution_count": 7,
   "metadata": {},
   "outputs": [
    {
     "data": {
      "text/html": [
       "<div>\n",
       "<style scoped>\n",
       "    .dataframe tbody tr th:only-of-type {\n",
       "        vertical-align: middle;\n",
       "    }\n",
       "\n",
       "    .dataframe tbody tr th {\n",
       "        vertical-align: top;\n",
       "    }\n",
       "\n",
       "    .dataframe thead th {\n",
       "        text-align: right;\n",
       "    }\n",
       "</style>\n",
       "<table border=\"1\" class=\"dataframe\">\n",
       "  <thead>\n",
       "    <tr style=\"text-align: right;\">\n",
       "      <th></th>\n",
       "      <th>Open</th>\n",
       "      <th>High</th>\n",
       "      <th>Low</th>\n",
       "      <th>Close</th>\n",
       "      <th>Adj Close</th>\n",
       "      <th>Volume</th>\n",
       "    </tr>\n",
       "    <tr>\n",
       "      <th>Date</th>\n",
       "      <th></th>\n",
       "      <th></th>\n",
       "      <th></th>\n",
       "      <th></th>\n",
       "      <th></th>\n",
       "      <th></th>\n",
       "    </tr>\n",
       "  </thead>\n",
       "  <tbody>\n",
       "    <tr>\n",
       "      <th>2015-10-29</th>\n",
       "      <td>555.000000</td>\n",
       "      <td>557.250000</td>\n",
       "      <td>550.000000</td>\n",
       "      <td>551.775024</td>\n",
       "      <td>531.294189</td>\n",
       "      <td>3351184.0</td>\n",
       "    </tr>\n",
       "    <tr>\n",
       "      <th>2015-10-30</th>\n",
       "      <td>551.000000</td>\n",
       "      <td>556.000000</td>\n",
       "      <td>545.224976</td>\n",
       "      <td>549.799988</td>\n",
       "      <td>529.392395</td>\n",
       "      <td>4048730.0</td>\n",
       "    </tr>\n",
       "    <tr>\n",
       "      <th>2015-11-02</th>\n",
       "      <td>547.525024</td>\n",
       "      <td>547.950012</td>\n",
       "      <td>538.250000</td>\n",
       "      <td>541.549988</td>\n",
       "      <td>521.448669</td>\n",
       "      <td>1578276.0</td>\n",
       "    </tr>\n",
       "    <tr>\n",
       "      <th>2015-11-03</th>\n",
       "      <td>545.474976</td>\n",
       "      <td>546.000000</td>\n",
       "      <td>539.599976</td>\n",
       "      <td>542.450012</td>\n",
       "      <td>522.315247</td>\n",
       "      <td>1274296.0</td>\n",
       "    </tr>\n",
       "    <tr>\n",
       "      <th>2015-11-04</th>\n",
       "      <td>545.025024</td>\n",
       "      <td>549.049988</td>\n",
       "      <td>539.125000</td>\n",
       "      <td>540.849976</td>\n",
       "      <td>520.774719</td>\n",
       "      <td>1348222.0</td>\n",
       "    </tr>\n",
       "  </tbody>\n",
       "</table>\n",
       "</div>"
      ],
      "text/plain": [
       "                  Open        High         Low       Close   Adj Close  \\\n",
       "Date                                                                     \n",
       "2015-10-29  555.000000  557.250000  550.000000  551.775024  531.294189   \n",
       "2015-10-30  551.000000  556.000000  545.224976  549.799988  529.392395   \n",
       "2015-11-02  547.525024  547.950012  538.250000  541.549988  521.448669   \n",
       "2015-11-03  545.474976  546.000000  539.599976  542.450012  522.315247   \n",
       "2015-11-04  545.025024  549.049988  539.125000  540.849976  520.774719   \n",
       "\n",
       "               Volume  \n",
       "Date                   \n",
       "2015-10-29  3351184.0  \n",
       "2015-10-30  4048730.0  \n",
       "2015-11-02  1578276.0  \n",
       "2015-11-03  1274296.0  \n",
       "2015-11-04  1348222.0  "
      ]
     },
     "execution_count": 7,
     "metadata": {},
     "output_type": "execute_result"
    }
   ],
   "source": [
    "import pandas as pd\n",
    "import numpy as np\n",
    "import matplotlib.pyplot as plt\n",
    "\n",
    "%matplotlib inline\n",
    "df = pd.read_csv('HDFCBANK.NS.csv')\n",
    "\n",
    "df['Date'] = pd.to_datetime(df.Date, format=\"%Y-%m-%d\")\n",
    "df.index = df.Date\n",
    "\n",
    "df = df.drop(['Date'], axis=1)\n",
    "df.head()"
   ]
  },
  {
   "cell_type": "code",
   "execution_count": 10,
   "metadata": {},
   "outputs": [
    {
     "data": {
      "text/plain": [
       "[<matplotlib.lines.Line2D at 0x25a6fdd08d0>]"
      ]
     },
     "execution_count": 10,
     "metadata": {},
     "output_type": "execute_result"
    },
    {
     "data": {
      "image/png": "[encoded data removed]",
      "text/plain": [
       "<Figure size 432x288 with 1 Axes>"
      ]
     },
     "metadata": {
      "needs_background": "light"
     },
     "output_type": "display_data"
    }
   ],
   "source": [
    "plt.plot(df[\"Adj Close\"], label=\"Close Price\")"
   ]
  },
  {
   "cell_type": "code",
   "execution_count": null,
   "metadata": {},
   "outputs": [],
   "source": []
  }
 ],
 "metadata": {
  "kernelspec": {
   "display_name": "Python 3",
   "language": "python",
   "name": "python3"
  },
  "language_info": {
   "codemirror_mode": {
    "name": "ipython",
    "version": 3
   },
   "file_extension": ".py",
   "mimetype": "text/x-python",
   "name": "python",
   "nbconvert_exporter": "python",
   "pygments_lexer": "ipython3",
   "version": "3.6.4"
  }
 },
 "nbformat": 4,
 "nbformat_minor": 2
}
